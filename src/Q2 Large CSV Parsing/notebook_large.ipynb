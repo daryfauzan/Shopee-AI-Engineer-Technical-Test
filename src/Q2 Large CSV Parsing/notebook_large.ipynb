{
 "cells": [
  {
   "cell_type": "markdown",
   "metadata": {},
   "source": [
    "# Import Libraries"
   ]
  },
  {
   "cell_type": "code",
   "execution_count": 1,
   "metadata": {},
   "outputs": [],
   "source": [
    "import functools\n",
    "import tracemalloc\n",
    "import psutil\n",
    "import os\n",
    "from pathlib import Path\n",
    "import time\n",
    "import zipfile\n",
    "\n",
    "import httpx\n",
    "import dask.dataframe as dd\n",
    "import seaborn as sns\n",
    "from matplotlib import pyplot as plt"
   ]
  },
  {
   "cell_type": "markdown",
   "metadata": {},
   "source": [
    "# Utilities"
   ]
  },
  {
   "cell_type": "code",
   "execution_count": 2,
   "metadata": {},
   "outputs": [],
   "source": [
    "def profiler(func):\n",
    "    \"\"\"Decorator to measure memory usage and execution time of a function.\"\"\"\n",
    "    @functools.wraps(func)\n",
    "    def wrapper(*args, **kwargs):\n",
    "        process = psutil.Process(os.getpid())\n",
    "\n",
    "        # Start memory + time tracking\n",
    "        start_mem = process.memory_info().rss / 1024**2\n",
    "        tracemalloc.start()\n",
    "        start_time = time.time()\n",
    "\n",
    "        result = func(*args, **kwargs)  # run target function\n",
    "\n",
    "        # After execution\n",
    "        current, peak = tracemalloc.get_traced_memory()\n",
    "        end_mem = process.memory_info().rss / 1024**2\n",
    "        end_time = time.time()\n",
    "        tracemalloc.stop()\n",
    "\n",
    "        print(f\"\\n--- Memory Profile for `{func.__name__}` ---\")\n",
    "        print(f\"Start memory   : {start_mem:.2f} MB\")\n",
    "        print(f\"End memory     : {end_mem:.2f} MB\")\n",
    "        print(f\"Peak (tracked) : {peak / 1024**2:.2f} MB\")\n",
    "        print(f\"Execution time : {end_time - start_time:.2f} sec\")\n",
    "        print(\"------------------------------------------\\n\")\n",
    "\n",
    "        return result\n",
    "    return wrapper"
   ]
  },
  {
   "cell_type": "code",
   "execution_count": 3,
   "metadata": {},
   "outputs": [],
   "source": [
    "# Constants\n",
    "\n",
    "ROOT_PATH = Path(os.getcwd())\n",
    "GDRIVE_ID = \"1IXQDp8Um3d-o7ysZLxkDyuvFj9gtlxqz\"\n",
    "ARCHIVE_OUTPUT_PATH = ROOT_PATH / \"dataset.zip\"\n",
    "DATASET_OUTPUT_PATH = ROOT_PATH / \"customers-2000000.csv\""
   ]
  },
  {
   "cell_type": "code",
   "execution_count": 4,
   "metadata": {},
   "outputs": [],
   "source": [
    "@profiler\n",
    "def unzip_file(zip_path):\n",
    "    # Check if the ZIP file exists\n",
    "    if not os.path.exists(zip_path):\n",
    "        raise FileNotFoundError(f\"ZIP file not found: {zip_path}\")\n",
    "    \n",
    "    # If no extraction directory specified, use the ZIP file's directory\n",
    "    extract_to = \".\"\n",
    "    \n",
    "    # Extract the ZIP file\n",
    "    with zipfile.ZipFile(zip_path, 'r') as zip_ref:\n",
    "        zip_ref.extractall(extract_to)\n",
    "        print(f\"Successfully extracted {zip_path} to {extract_to}\")\n",
    "        \n",
    "        # Optional: Print extracted files\n",
    "        extracted_files = zip_ref.namelist()\n",
    "        print(f\"Extracted {len(extracted_files)} files:\")\n",
    "        for file in extracted_files[:5]:  # Show first 5 files\n",
    "            print(f\"  - {file}\")\n",
    "        if len(extracted_files) > 5:\n",
    "            print(f\"  ... and {len(extracted_files) - 5} more files\")\n",
    "    \n",
    "    return os.path.abspath(extract_to)\n",
    "\n",
    "\n",
    "@profiler\n",
    "def load_data(file_path: Path, **kwargs) -> dd.DataFrame:\n",
    "    return dd.read_csv(file_path, **kwargs)"
   ]
  },
  {
   "cell_type": "markdown",
   "metadata": {},
   "source": [
    "# EDA"
   ]
  },
  {
   "cell_type": "markdown",
   "metadata": {},
   "source": [
    "## Data Loading"
   ]
  },
  {
   "cell_type": "code",
   "execution_count": null,
   "metadata": {
    "scrolled": true
   },
   "outputs": [],
   "source": [
    "# Data Loading\n",
    "!gdown 1IXQDp8Um3d-o7ysZLxkDyuvFj9gtlxqz -O dataset.zip"
   ]
  },
  {
   "cell_type": "code",
   "execution_count": null,
   "metadata": {},
   "outputs": [],
   "source": [
    "# Unzip File\n",
    "unzip_file(ARCHIVE_OUTPUT_PATH)"
   ]
  },
  {
   "cell_type": "code",
   "execution_count": 5,
   "metadata": {},
   "outputs": [
    {
     "name": "stdout",
     "output_type": "stream",
     "text": [
      "\n",
      "--- Memory Profile for `load_data` ---\n",
      "Start memory   : 169.54 MB\n",
      "End memory     : 173.22 MB\n",
      "Peak (tracked) : 1.16 MB\n",
      "Execution time : 0.07 sec\n",
      "------------------------------------------\n",
      "\n"
     ]
    }
   ],
   "source": [
    "# Data Parsing\n",
    "df = load_data(DATASET_OUTPUT_PATH, index_col=False)\n",
    "df = df.set_index(\"Index\")"
   ]
  },
  {
   "cell_type": "markdown",
   "metadata": {},
   "source": [
    "## Data Understanding"
   ]
  },
  {
   "cell_type": "code",
   "execution_count": 15,
   "metadata": {},
   "outputs": [
    {
     "name": "stdout",
     "output_type": "stream",
     "text": [
      "(2000000, 11)\n"
     ]
    }
   ],
   "source": [
    "# Number of rows (requires computation)\n",
    "nrows = df.shape[0].compute()\n",
    "\n",
    "# Number of columns (fast, metadata only)\n",
    "ncols = len(df.columns)\n",
    "\n",
    "print((nrows, ncols))"
   ]
  },
  {
   "cell_type": "code",
   "execution_count": null,
   "metadata": {},
   "outputs": [],
   "source": [
    "df.head()"
   ]
  },
  {
   "cell_type": "code",
   "execution_count": 6,
   "metadata": {},
   "outputs": [
    {
     "data": {
      "text/plain": [
       "5"
      ]
     },
     "execution_count": 6,
     "metadata": {},
     "output_type": "execute_result"
    }
   ],
   "source": [
    "df.npartitions"
   ]
  },
  {
   "cell_type": "markdown",
   "metadata": {},
   "source": [
    "## Data Cleaning and Preparation"
   ]
  },
  {
   "cell_type": "code",
   "execution_count": 7,
   "metadata": {},
   "outputs": [
    {
     "name": "stdout",
     "output_type": "stream",
     "text": [
      "\n",
      "--- Memory Profile for `parse_date` ---\n",
      "Start memory   : 295.46 MB\n",
      "End memory     : 293.02 MB\n",
      "Peak (tracked) : 0.07 MB\n",
      "Execution time : 0.03 sec\n",
      "------------------------------------------\n",
      "\n"
     ]
    }
   ],
   "source": [
    "# Parsing to date\n",
    "@profiler\n",
    "def parse_date(df: dd.DataFrame, col: str):\n",
    "    df[col] = dd.to_datetime(df[col])\n",
    "\n",
    "parse_date(df, \"Subscription Date\")"
   ]
  },
  {
   "cell_type": "code",
   "execution_count": 8,
   "metadata": {},
   "outputs": [
    {
     "data": {
      "image/svg+xml": [
       "<?xml version=\"1.0\" encoding=\"UTF-8\" standalone=\"no\"?>\n",
       "<!DOCTYPE svg PUBLIC \"-//W3C//DTD SVG 1.1//EN\"\n",
       " \"http://www.w3.org/Graphics/SVG/1.1/DTD/svg11.dtd\">\n",
       "<!-- Generated by graphviz version 12.1.0 (20240811.2233)\n",
       " -->\n",
       "<!-- Pages: 1 -->\n",
       "<svg width=\"556pt\" height=\"404pt\"\n",
       " viewBox=\"0.00 0.00 556.38 404.00\" xmlns=\"http://www.w3.org/2000/svg\" xmlns:xlink=\"http://www.w3.org/1999/xlink\">\n",
       "<g id=\"graph0\" class=\"graph\" transform=\"scale(1 1) rotate(0) translate(4 400)\">\n",
       "<polygon fill=\"white\" stroke=\"none\" points=\"-4,4 -4,-400 552.38,-400 552.38,4 -4,4\"/>\n",
       "<!-- &#45;5463228182792319128 -->\n",
       "<g id=\"node1\" class=\"node\">\n",
       "<title>&#45;5463228182792319128</title>\n",
       "<polygon fill=\"none\" stroke=\"black\" points=\"447.25,-396 0,-396 0,-360 447.25,-360 447.25,-396\"/>\n",
       "<text text-anchor=\"middle\" x=\"223.62\" y=\"-370.62\" font-family=\"Helvetica,sans-Serif\" font-size=\"20.00\">Assign(SetIndex, Subscription Date, ToDatetime)</text>\n",
       "</g>\n",
       "<!-- &#45;852582460530576090 -->\n",
       "<g id=\"node2\" class=\"node\">\n",
       "<title>&#45;852582460530576090</title>\n",
       "<polygon fill=\"none\" stroke=\"black\" points=\"438.25,-324 219,-324 219,-288 438.25,-288 438.25,-324\"/>\n",
       "<text text-anchor=\"middle\" x=\"328.62\" y=\"-298.62\" font-family=\"Helvetica,sans-Serif\" font-size=\"20.00\">ToDatetime(Projection)</text>\n",
       "</g>\n",
       "<!-- &#45;852582460530576090&#45;&gt;&#45;5463228182792319128 -->\n",
       "<g id=\"edge2\" class=\"edge\">\n",
       "<title>&#45;852582460530576090&#45;&gt;&#45;5463228182792319128</title>\n",
       "<path fill=\"none\" stroke=\"black\" d=\"M302.4,-324.48C289.27,-333.24 273.19,-343.96 258.99,-353.42\"/>\n",
       "<polygon fill=\"black\" stroke=\"black\" points=\"257.15,-350.44 250.78,-358.9 261.04,-356.27 257.15,-350.44\"/>\n",
       "</g>\n",
       "<!-- 1518792229228515737 -->\n",
       "<g id=\"node3\" class=\"node\">\n",
       "<title>1518792229228515737</title>\n",
       "<polygon fill=\"none\" stroke=\"black\" points=\"548.38,-252 182.88,-252 182.88,-216 548.38,-216 548.38,-252\"/>\n",
       "<text text-anchor=\"middle\" x=\"365.62\" y=\"-226.62\" font-family=\"Helvetica,sans-Serif\" font-size=\"20.00\">Projection(SetIndex, Subscription Date)</text>\n",
       "</g>\n",
       "<!-- 1518792229228515737&#45;&gt;&#45;852582460530576090 -->\n",
       "<g id=\"edge3\" class=\"edge\">\n",
       "<title>1518792229228515737&#45;&gt;&#45;852582460530576090</title>\n",
       "<path fill=\"none\" stroke=\"black\" d=\"M356.48,-252.3C352.4,-260.02 347.5,-269.29 342.96,-277.89\"/>\n",
       "<polygon fill=\"black\" stroke=\"black\" points=\"339.95,-276.08 338.37,-286.56 346.14,-279.35 339.95,-276.08\"/>\n",
       "</g>\n",
       "<!-- &#45;440471972781207351 -->\n",
       "<g id=\"node4\" class=\"node\">\n",
       "<title>&#45;440471972781207351</title>\n",
       "<polygon fill=\"none\" stroke=\"black\" points=\"416.88,-180 102.38,-180 102.38,-144 416.88,-144 416.88,-180\"/>\n",
       "<text text-anchor=\"middle\" x=\"259.62\" y=\"-154.62\" font-family=\"Helvetica,sans-Serif\" font-size=\"20.00\">SetIndex(ArrowStringConversion)</text>\n",
       "</g>\n",
       "<!-- &#45;440471972781207351&#45;&gt;&#45;5463228182792319128 -->\n",
       "<g id=\"edge1\" class=\"edge\">\n",
       "<title>&#45;440471972781207351&#45;&gt;&#45;5463228182792319128</title>\n",
       "<path fill=\"none\" stroke=\"black\" d=\"M213.62,-180.26C198.07,-188.57 182.43,-200.23 173.62,-216 149.08,-259.96 180.1,-317.54 203.09,-350.58\"/>\n",
       "<polygon fill=\"black\" stroke=\"black\" points=\"200.03,-352.32 208.72,-358.39 205.71,-348.23 200.03,-352.32\"/>\n",
       "</g>\n",
       "<!-- &#45;440471972781207351&#45;&gt;1518792229228515737 -->\n",
       "<g id=\"edge4\" class=\"edge\">\n",
       "<title>&#45;440471972781207351&#45;&gt;1518792229228515737</title>\n",
       "<path fill=\"none\" stroke=\"black\" d=\"M286.1,-180.48C299.35,-189.24 315.59,-199.96 329.92,-209.42\"/>\n",
       "<polygon fill=\"black\" stroke=\"black\" points=\"327.95,-212.32 338.22,-214.91 331.81,-206.47 327.95,-212.32\"/>\n",
       "</g>\n",
       "<!-- 349253423119367704 -->\n",
       "<g id=\"node5\" class=\"node\">\n",
       "<title>349253423119367704</title>\n",
       "<polygon fill=\"none\" stroke=\"black\" points=\"470.5,-108 48.75,-108 48.75,-72 470.5,-72 470.5,-108\"/>\n",
       "<text text-anchor=\"middle\" x=\"259.62\" y=\"-82.62\" font-family=\"Helvetica,sans-Serif\" font-size=\"20.00\">ArrowStringConversion(FromMapProjectable)</text>\n",
       "</g>\n",
       "<!-- 349253423119367704&#45;&gt;&#45;440471972781207351 -->\n",
       "<g id=\"edge5\" class=\"edge\">\n",
       "<title>349253423119367704&#45;&gt;&#45;440471972781207351</title>\n",
       "<path fill=\"none\" stroke=\"black\" d=\"M259.62,-108.3C259.62,-115.59 259.62,-124.27 259.62,-132.46\"/>\n",
       "<polygon fill=\"black\" stroke=\"black\" points=\"256.13,-132.38 259.63,-142.38 263.13,-132.38 256.13,-132.38\"/>\n",
       "</g>\n",
       "<!-- 2701620513001685200 -->\n",
       "<g id=\"node6\" class=\"node\">\n",
       "<title>2701620513001685200</title>\n",
       "<polygon fill=\"none\" stroke=\"black\" points=\"360.62,-36 158.62,-36 158.62,0 360.62,0 360.62,-36\"/>\n",
       "<text text-anchor=\"middle\" x=\"259.62\" y=\"-10.62\" font-family=\"Helvetica,sans-Serif\" font-size=\"20.00\">FromMapProjectable</text>\n",
       "</g>\n",
       "<!-- 2701620513001685200&#45;&gt;349253423119367704 -->\n",
       "<g id=\"edge6\" class=\"edge\">\n",
       "<title>2701620513001685200&#45;&gt;349253423119367704</title>\n",
       "<path fill=\"none\" stroke=\"black\" d=\"M259.62,-36.3C259.62,-43.59 259.62,-52.27 259.62,-60.46\"/>\n",
       "<polygon fill=\"black\" stroke=\"black\" points=\"256.13,-60.38 259.63,-70.38 263.13,-60.38 256.13,-60.38\"/>\n",
       "</g>\n",
       "</g>\n",
       "</svg>\n"
      ],
      "text/plain": [
       "<graphviz.graphs.Digraph at 0x15dd73c6250>"
      ]
     },
     "execution_count": 8,
     "metadata": {},
     "output_type": "execute_result"
    }
   ],
   "source": [
    "df.visualize()"
   ]
  },
  {
   "cell_type": "code",
   "execution_count": 17,
   "metadata": {},
   "outputs": [
    {
     "data": {
      "text/html": [
       "<div>\n",
       "<style scoped>\n",
       "    .dataframe tbody tr th:only-of-type {\n",
       "        vertical-align: middle;\n",
       "    }\n",
       "\n",
       "    .dataframe tbody tr th {\n",
       "        vertical-align: top;\n",
       "    }\n",
       "\n",
       "    .dataframe thead th {\n",
       "        text-align: right;\n",
       "    }\n",
       "</style>\n",
       "<table border=\"1\" class=\"dataframe\">\n",
       "  <thead>\n",
       "    <tr style=\"text-align: right;\">\n",
       "      <th></th>\n",
       "      <th>Customer Id</th>\n",
       "      <th>First Name</th>\n",
       "      <th>Last Name</th>\n",
       "      <th>Company</th>\n",
       "      <th>City</th>\n",
       "      <th>Country</th>\n",
       "      <th>Phone 1</th>\n",
       "      <th>Phone 2</th>\n",
       "      <th>Email</th>\n",
       "      <th>Subscription Date</th>\n",
       "      <th>Website</th>\n",
       "    </tr>\n",
       "    <tr>\n",
       "      <th>Index</th>\n",
       "      <th></th>\n",
       "      <th></th>\n",
       "      <th></th>\n",
       "      <th></th>\n",
       "      <th></th>\n",
       "      <th></th>\n",
       "      <th></th>\n",
       "      <th></th>\n",
       "      <th></th>\n",
       "      <th></th>\n",
       "      <th></th>\n",
       "    </tr>\n",
       "  </thead>\n",
       "  <tbody>\n",
       "    <tr>\n",
       "      <th>1</th>\n",
       "      <td>4962fdbE6Bfee6D</td>\n",
       "      <td>Pam</td>\n",
       "      <td>Sparks</td>\n",
       "      <td>Patel-Deleon</td>\n",
       "      <td>Blakemouth</td>\n",
       "      <td>British Indian Ocean Territory (Chagos Archipe...</td>\n",
       "      <td>267-243-9490x035</td>\n",
       "      <td>480-078-0535x889</td>\n",
       "      <td>nicolas00@faulkner-kramer.com</td>\n",
       "      <td>2020-11-29</td>\n",
       "      <td>https://nelson.com/</td>\n",
       "    </tr>\n",
       "    <tr>\n",
       "      <th>2</th>\n",
       "      <td>9b12Ae76fdBc9bE</td>\n",
       "      <td>Gina</td>\n",
       "      <td>Rocha</td>\n",
       "      <td>Acosta, Paul and Barber</td>\n",
       "      <td>East Lynnchester</td>\n",
       "      <td>Costa Rica</td>\n",
       "      <td>027.142.0940</td>\n",
       "      <td>+1-752-593-4777x07171</td>\n",
       "      <td>yfarley@morgan.com</td>\n",
       "      <td>2021-01-03</td>\n",
       "      <td>https://pineda-rogers.biz/</td>\n",
       "    </tr>\n",
       "    <tr>\n",
       "      <th>3</th>\n",
       "      <td>39edFd2F60C85BC</td>\n",
       "      <td>Kristie</td>\n",
       "      <td>Greer</td>\n",
       "      <td>Ochoa PLC</td>\n",
       "      <td>West Pamela</td>\n",
       "      <td>Ecuador</td>\n",
       "      <td>+1-049-168-7497x5053</td>\n",
       "      <td>+1-311-216-7855</td>\n",
       "      <td>jennyhayden@petty.org</td>\n",
       "      <td>2021-06-20</td>\n",
       "      <td>https://mckinney.com/</td>\n",
       "    </tr>\n",
       "    <tr>\n",
       "      <th>4</th>\n",
       "      <td>Fa42AE6a9aD39cE</td>\n",
       "      <td>Arthur</td>\n",
       "      <td>Fields</td>\n",
       "      <td>Moyer-Wang</td>\n",
       "      <td>East Belinda</td>\n",
       "      <td>Afghanistan</td>\n",
       "      <td>001-653-754-7486x65787</td>\n",
       "      <td>521-630-3858x953</td>\n",
       "      <td>igrimes@ruiz-todd.org</td>\n",
       "      <td>2020-02-13</td>\n",
       "      <td>https://dominguez.biz/</td>\n",
       "    </tr>\n",
       "    <tr>\n",
       "      <th>5</th>\n",
       "      <td>F5702Edae925F1D</td>\n",
       "      <td>Michelle</td>\n",
       "      <td>Blevins</td>\n",
       "      <td>Shah and Sons</td>\n",
       "      <td>West Jared</td>\n",
       "      <td>Marshall Islands</td>\n",
       "      <td>8735278329</td>\n",
       "      <td>(633)283-6034x500</td>\n",
       "      <td>diamondcarter@jordan.com</td>\n",
       "      <td>2020-10-20</td>\n",
       "      <td>http://murillo-ryan.com/</td>\n",
       "    </tr>\n",
       "  </tbody>\n",
       "</table>\n",
       "</div>"
      ],
      "text/plain": [
       "           Customer Id First Name Last Name                  Company  \\\n",
       "Index                                                                  \n",
       "1      4962fdbE6Bfee6D        Pam    Sparks             Patel-Deleon   \n",
       "2      9b12Ae76fdBc9bE       Gina     Rocha  Acosta, Paul and Barber   \n",
       "3      39edFd2F60C85BC    Kristie     Greer                Ochoa PLC   \n",
       "4      Fa42AE6a9aD39cE     Arthur    Fields               Moyer-Wang   \n",
       "5      F5702Edae925F1D   Michelle   Blevins            Shah and Sons   \n",
       "\n",
       "                   City                                            Country  \\\n",
       "Index                                                                        \n",
       "1            Blakemouth  British Indian Ocean Territory (Chagos Archipe...   \n",
       "2      East Lynnchester                                         Costa Rica   \n",
       "3           West Pamela                                            Ecuador   \n",
       "4          East Belinda                                        Afghanistan   \n",
       "5            West Jared                                   Marshall Islands   \n",
       "\n",
       "                      Phone 1                Phone 2  \\\n",
       "Index                                                  \n",
       "1            267-243-9490x035       480-078-0535x889   \n",
       "2                027.142.0940  +1-752-593-4777x07171   \n",
       "3        +1-049-168-7497x5053        +1-311-216-7855   \n",
       "4      001-653-754-7486x65787       521-630-3858x953   \n",
       "5                  8735278329      (633)283-6034x500   \n",
       "\n",
       "                               Email Subscription Date  \\\n",
       "Index                                                    \n",
       "1      nicolas00@faulkner-kramer.com        2020-11-29   \n",
       "2                 yfarley@morgan.com        2021-01-03   \n",
       "3              jennyhayden@petty.org        2021-06-20   \n",
       "4              igrimes@ruiz-todd.org        2020-02-13   \n",
       "5           diamondcarter@jordan.com        2020-10-20   \n",
       "\n",
       "                          Website  \n",
       "Index                              \n",
       "1             https://nelson.com/  \n",
       "2      https://pineda-rogers.biz/  \n",
       "3           https://mckinney.com/  \n",
       "4          https://dominguez.biz/  \n",
       "5        http://murillo-ryan.com/  "
      ]
     },
     "execution_count": 17,
     "metadata": {},
     "output_type": "execute_result"
    }
   ],
   "source": [
    "df.head()"
   ]
  }
 ],
 "metadata": {
  "kernelspec": {
   "display_name": "Python 3 (ipykernel)",
   "language": "python",
   "name": "python3"
  },
  "language_info": {
   "codemirror_mode": {
    "name": "ipython",
    "version": 3
   },
   "file_extension": ".py",
   "mimetype": "text/x-python",
   "name": "python",
   "nbconvert_exporter": "python",
   "pygments_lexer": "ipython3",
   "version": "3.11.9"
  }
 },
 "nbformat": 4,
 "nbformat_minor": 4
}
