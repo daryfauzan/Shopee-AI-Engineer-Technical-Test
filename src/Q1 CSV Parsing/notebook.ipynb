{
 "cells": [
  {
   "cell_type": "markdown",
   "metadata": {},
   "source": [
    "# Import Libraries"
   ]
  },
  {
   "cell_type": "code",
   "execution_count": 8,
   "metadata": {},
   "outputs": [],
   "source": [
    "import functools\n",
    "import tracemalloc\n",
    "import psutil\n",
    "import os\n",
    "from pathlib import Path\n",
    "import time\n",
    "\n",
    "import httpx\n",
    "import pandas as pd\n",
    "import seaborn as sns\n",
    "from matplotlib import pyplot as plt"
   ]
  },
  {
   "cell_type": "markdown",
   "metadata": {},
   "source": [
    "# Utilities"
   ]
  },
  {
   "cell_type": "code",
   "execution_count": 3,
   "metadata": {},
   "outputs": [],
   "source": [
    "def profiler(func):\n",
    "    \"\"\"Decorator to measure memory usage and execution time of a function.\"\"\"\n",
    "    @functools.wraps(func)\n",
    "    def wrapper(*args, **kwargs):\n",
    "        process = psutil.Process(os.getpid())\n",
    "\n",
    "        # Start memory + time tracking\n",
    "        start_mem = process.memory_info().rss / 1024**2\n",
    "        tracemalloc.start()\n",
    "        start_time = time.time()\n",
    "\n",
    "        result = func(*args, **kwargs)  # run target function\n",
    "\n",
    "        # After execution\n",
    "        current, peak = tracemalloc.get_traced_memory()\n",
    "        end_mem = process.memory_info().rss / 1024**2\n",
    "        end_time = time.time()\n",
    "        tracemalloc.stop()\n",
    "\n",
    "        print(f\"\\n--- Memory Profile for `{func.__name__}` ---\")\n",
    "        print(f\"Start memory   : {start_mem:.2f} MB\")\n",
    "        print(f\"End memory     : {end_mem:.2f} MB\")\n",
    "        print(f\"Peak (tracked) : {peak / 1024**2:.2f} MB\")\n",
    "        print(f\"Execution time : {end_time - start_time:.2f} sec\")\n",
    "        print(\"------------------------------------------\\n\")\n",
    "\n",
    "        return result\n",
    "    return wrapper"
   ]
  },
  {
   "cell_type": "code",
   "execution_count": 16,
   "metadata": {},
   "outputs": [],
   "source": [
    "# Constants\n",
    "\n",
    "ROOT_PATH = Path(os.getcwd())\n",
    "DATASET_URL = \"https://drive.usercontent.google.com/download?id=1N1xoxgcw2K3d-49tlchXAWw4wuxLj7EV&export=download\"\n",
    "DATASET_OUTPUT_PATH = ROOT_PATH / \"dataset.csv\""
   ]
  },
  {
   "cell_type": "code",
   "execution_count": 19,
   "metadata": {},
   "outputs": [],
   "source": [
    "# Utilities\n",
    "@profiler\n",
    "def download_data(url: str, output_path: Path) -> None:\n",
    "    with httpx.stream(\"GET\", url) as response:\n",
    "        response.raise_for_status()  # check for HTTP errors\n",
    "        with open(output_path, \"wb\") as f:\n",
    "            for chunk in response.iter_bytes():\n",
    "                f.write(chunk)\n",
    "\n",
    "    print(f\"Downloaded to {output_path}\")\n",
    "\n",
    "@profiler\n",
    "def load_data(file_path: Path, **kwargs) -> pd.DataFrame:\n",
    "    return pd.read_csv(file_path, **kwargs)"
   ]
  },
  {
   "cell_type": "markdown",
   "metadata": {},
   "source": [
    "# EDA"
   ]
  },
  {
   "cell_type": "markdown",
   "metadata": {},
   "source": [
    "## Data Loading"
   ]
  },
  {
   "cell_type": "code",
   "execution_count": 21,
   "metadata": {},
   "outputs": [
    {
     "name": "stdout",
     "output_type": "stream",
     "text": [
      "Downloaded to C:\\Users\\Dary\\Documents\\06 Projects\\03 AI-ML-Data Science\\Shopee AI Engineer Technical Test\\src\\Q1 CSV Parsing\\dataset.csv\n",
      "\n",
      "--- Memory Profile for `download_data` ---\n",
      "Start memory   : 216.87 MB\n",
      "End memory     : 217.22 MB\n",
      "Peak (tracked) : 0.13 MB\n",
      "Execution time : 7.73 sec\n",
      "------------------------------------------\n",
      "\n"
     ]
    }
   ],
   "source": [
    "# Data Loading\n",
    "download_data(DATASET_URL, DATASET_OUTPUT_PATH)"
   ]
  },
  {
   "cell_type": "code",
   "execution_count": 30,
   "metadata": {},
   "outputs": [
    {
     "name": "stdout",
     "output_type": "stream",
     "text": [
      "\n",
      "--- Memory Profile for `load_data` ---\n",
      "Start memory   : 230.51 MB\n",
      "End memory     : 339.88 MB\n",
      "Peak (tracked) : 61.37 MB\n",
      "Execution time : 1.20 sec\n",
      "------------------------------------------\n",
      "\n"
     ]
    }
   ],
   "source": [
    "# Data Parsing\n",
    "df = load_data(DATASET_OUTPUT_PATH, index_col=0)"
   ]
  },
  {
   "cell_type": "markdown",
   "metadata": {},
   "source": [
    "## Data Understanding"
   ]
  },
  {
   "cell_type": "code",
   "execution_count": 33,
   "metadata": {},
   "outputs": [
    {
     "data": {
      "text/html": [
       "<div>\n",
       "<style scoped>\n",
       "    .dataframe tbody tr th:only-of-type {\n",
       "        vertical-align: middle;\n",
       "    }\n",
       "\n",
       "    .dataframe tbody tr th {\n",
       "        vertical-align: top;\n",
       "    }\n",
       "\n",
       "    .dataframe thead th {\n",
       "        text-align: right;\n",
       "    }\n",
       "</style>\n",
       "<table border=\"1\" class=\"dataframe\">\n",
       "  <thead>\n",
       "    <tr style=\"text-align: right;\">\n",
       "      <th></th>\n",
       "      <th>Customer Id</th>\n",
       "      <th>First Name</th>\n",
       "      <th>Last Name</th>\n",
       "      <th>Company</th>\n",
       "      <th>City</th>\n",
       "      <th>Country</th>\n",
       "      <th>Phone 1</th>\n",
       "      <th>Phone 2</th>\n",
       "      <th>Email</th>\n",
       "      <th>Subscription Date</th>\n",
       "      <th>Website</th>\n",
       "    </tr>\n",
       "    <tr>\n",
       "      <th>Index</th>\n",
       "      <th></th>\n",
       "      <th></th>\n",
       "      <th></th>\n",
       "      <th></th>\n",
       "      <th></th>\n",
       "      <th></th>\n",
       "      <th></th>\n",
       "      <th></th>\n",
       "      <th></th>\n",
       "      <th></th>\n",
       "      <th></th>\n",
       "    </tr>\n",
       "  </thead>\n",
       "  <tbody>\n",
       "    <tr>\n",
       "      <th>1</th>\n",
       "      <td>ffeCAb7AbcB0f07</td>\n",
       "      <td>Jared</td>\n",
       "      <td>Jarvis</td>\n",
       "      <td>Sanchez-Fletcher</td>\n",
       "      <td>Hatfieldshire</td>\n",
       "      <td>Eritrea</td>\n",
       "      <td>274.188.8773x41185</td>\n",
       "      <td>001-215-760-4642x969</td>\n",
       "      <td>gabriellehartman@benjamin.com</td>\n",
       "      <td>2021-11-11</td>\n",
       "      <td>https://www.mccarthy.info/</td>\n",
       "    </tr>\n",
       "    <tr>\n",
       "      <th>2</th>\n",
       "      <td>b687FfC4F1600eC</td>\n",
       "      <td>Marie</td>\n",
       "      <td>Malone</td>\n",
       "      <td>Mckay PLC</td>\n",
       "      <td>Robertsonburgh</td>\n",
       "      <td>Botswana</td>\n",
       "      <td>283-236-9529</td>\n",
       "      <td>(189)129-8356x63741</td>\n",
       "      <td>kstafford@sexton.com</td>\n",
       "      <td>2021-05-14</td>\n",
       "      <td>http://www.reynolds.com/</td>\n",
       "    </tr>\n",
       "    <tr>\n",
       "      <th>3</th>\n",
       "      <td>9FF9ACbc69dcF9c</td>\n",
       "      <td>Elijah</td>\n",
       "      <td>Barrera</td>\n",
       "      <td>Marks and Sons</td>\n",
       "      <td>Kimbury</td>\n",
       "      <td>Barbados</td>\n",
       "      <td>8252703789</td>\n",
       "      <td>459-916-7241x0909</td>\n",
       "      <td>jeanettecross@brown.com</td>\n",
       "      <td>2021-03-17</td>\n",
       "      <td>https://neal.com/</td>\n",
       "    </tr>\n",
       "    <tr>\n",
       "      <th>4</th>\n",
       "      <td>b49edDB1295FF6E</td>\n",
       "      <td>Sheryl</td>\n",
       "      <td>Montgomery</td>\n",
       "      <td>Kirby, Vaughn and Sanders</td>\n",
       "      <td>Briannaview</td>\n",
       "      <td>Antarctica (the territory South of 60 deg S)</td>\n",
       "      <td>425.475.3586</td>\n",
       "      <td>(392)819-9063</td>\n",
       "      <td>thomassierra@barrett.com</td>\n",
       "      <td>2020-09-23</td>\n",
       "      <td>https://www.powell-bryan.com/</td>\n",
       "    </tr>\n",
       "    <tr>\n",
       "      <th>5</th>\n",
       "      <td>3dcCbFEB17CCf2E</td>\n",
       "      <td>Jeremy</td>\n",
       "      <td>Houston</td>\n",
       "      <td>Lester-Manning</td>\n",
       "      <td>South Brianna</td>\n",
       "      <td>Micronesia</td>\n",
       "      <td>+1-223-666-5313x4530</td>\n",
       "      <td>252-488-3850x692</td>\n",
       "      <td>rubenwatkins@jacobs-wallace.info</td>\n",
       "      <td>2020-09-18</td>\n",
       "      <td>https://www.carrillo.com/</td>\n",
       "    </tr>\n",
       "  </tbody>\n",
       "</table>\n",
       "</div>"
      ],
      "text/plain": [
       "           Customer Id First Name   Last Name                    Company  \\\n",
       "Index                                                                      \n",
       "1      ffeCAb7AbcB0f07      Jared      Jarvis           Sanchez-Fletcher   \n",
       "2      b687FfC4F1600eC      Marie      Malone                  Mckay PLC   \n",
       "3      9FF9ACbc69dcF9c     Elijah     Barrera             Marks and Sons   \n",
       "4      b49edDB1295FF6E     Sheryl  Montgomery  Kirby, Vaughn and Sanders   \n",
       "5      3dcCbFEB17CCf2E     Jeremy     Houston             Lester-Manning   \n",
       "\n",
       "                 City                                       Country  \\\n",
       "Index                                                                 \n",
       "1       Hatfieldshire                                       Eritrea   \n",
       "2      Robertsonburgh                                      Botswana   \n",
       "3             Kimbury                                      Barbados   \n",
       "4         Briannaview  Antarctica (the territory South of 60 deg S)   \n",
       "5       South Brianna                                    Micronesia   \n",
       "\n",
       "                    Phone 1               Phone 2  \\\n",
       "Index                                               \n",
       "1        274.188.8773x41185  001-215-760-4642x969   \n",
       "2              283-236-9529   (189)129-8356x63741   \n",
       "3                8252703789     459-916-7241x0909   \n",
       "4              425.475.3586         (392)819-9063   \n",
       "5      +1-223-666-5313x4530      252-488-3850x692   \n",
       "\n",
       "                                  Email Subscription Date  \\\n",
       "Index                                                       \n",
       "1         gabriellehartman@benjamin.com        2021-11-11   \n",
       "2                  kstafford@sexton.com        2021-05-14   \n",
       "3               jeanettecross@brown.com        2021-03-17   \n",
       "4              thomassierra@barrett.com        2020-09-23   \n",
       "5      rubenwatkins@jacobs-wallace.info        2020-09-18   \n",
       "\n",
       "                             Website  \n",
       "Index                                 \n",
       "1         https://www.mccarthy.info/  \n",
       "2           http://www.reynolds.com/  \n",
       "3                  https://neal.com/  \n",
       "4      https://www.powell-bryan.com/  \n",
       "5          https://www.carrillo.com/  "
      ]
     },
     "execution_count": 33,
     "metadata": {},
     "output_type": "execute_result"
    }
   ],
   "source": [
    "df.head()"
   ]
  },
  {
   "cell_type": "code",
   "execution_count": 27,
   "metadata": {},
   "outputs": [
    {
     "name": "stdout",
     "output_type": "stream",
     "text": [
      "<class 'pandas.core.frame.DataFrame'>\n",
      "RangeIndex: 100000 entries, 0 to 99999\n",
      "Data columns (total 12 columns):\n",
      " #   Column             Non-Null Count   Dtype \n",
      "---  ------             --------------   ----- \n",
      " 0   Index              100000 non-null  int64 \n",
      " 1   Customer Id        100000 non-null  object\n",
      " 2   First Name         100000 non-null  object\n",
      " 3   Last Name          100000 non-null  object\n",
      " 4   Company            100000 non-null  object\n",
      " 5   City               100000 non-null  object\n",
      " 6   Country            100000 non-null  object\n",
      " 7   Phone 1            100000 non-null  object\n",
      " 8   Phone 2            100000 non-null  object\n",
      " 9   Email              100000 non-null  object\n",
      " 10  Subscription Date  100000 non-null  object\n",
      " 11  Website            100000 non-null  object\n",
      "dtypes: int64(1), object(11)\n",
      "memory usage: 9.2+ MB\n"
     ]
    }
   ],
   "source": [
    "df.info()"
   ]
  },
  {
   "cell_type": "markdown",
   "metadata": {},
   "source": [
    "## Data Cleaning"
   ]
  },
  {
   "cell_type": "code",
   "execution_count": null,
   "metadata": {},
   "outputs": [],
   "source": []
  },
  {
   "cell_type": "markdown",
   "metadata": {},
   "source": [
    "## Descriptive Analysis"
   ]
  },
  {
   "cell_type": "code",
   "execution_count": null,
   "metadata": {},
   "outputs": [],
   "source": []
  },
  {
   "cell_type": "markdown",
   "metadata": {},
   "source": [
    "## Univariate Analysis"
   ]
  },
  {
   "cell_type": "code",
   "execution_count": null,
   "metadata": {},
   "outputs": [],
   "source": []
  },
  {
   "cell_type": "markdown",
   "metadata": {},
   "source": [
    "## Bivariate Analysis"
   ]
  },
  {
   "cell_type": "code",
   "execution_count": null,
   "metadata": {},
   "outputs": [],
   "source": []
  }
 ],
 "metadata": {
  "kernelspec": {
   "display_name": "Python 3 (ipykernel)",
   "language": "python",
   "name": "python3"
  },
  "language_info": {
   "codemirror_mode": {
    "name": "ipython",
    "version": 3
   },
   "file_extension": ".py",
   "mimetype": "text/x-python",
   "name": "python",
   "nbconvert_exporter": "python",
   "pygments_lexer": "ipython3",
   "version": "3.11.9"
  }
 },
 "nbformat": 4,
 "nbformat_minor": 4
}
